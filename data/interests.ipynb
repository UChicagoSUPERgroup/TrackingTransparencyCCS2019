{
  "cells": [
    {
      "cell_type": "code",
      "source": [
        "import os\n",
        "import json"
      ],
      "outputs": [],
      "execution_count": 1,
      "metadata": {}
    },
    {
      "cell_type": "code",
      "source": [
        "interests = {}"
      ],
      "outputs": [],
      "execution_count": 2,
      "metadata": {}
    },
    {
      "cell_type": "code",
      "source": [
        "# add data from raw text file\n",
        "\n",
        "leaves = []\n",
        "\n",
        "with open('categories_comfort_map.json') as comfort_json:\n",
        "    comfort = json.load(comfort_json)\n",
        "\n",
        "with open('categories_2017-08-28.txt') as f:\n",
        "    lines = f.readlines()\n",
        "    for line in lines:\n",
        "        arr = line.rstrip().split('>')\n",
        "        cat = arr[-1]\n",
        "        interests[cat] = {\n",
        "            'path': arr\n",
        "        }\n",
        "        if cat in comfort:\n",
        "            interests[cat]['comfort'] = float(comfort[cat])\n",
        "        leaves.append(cat)\n",
        "\n",
        "# with open('leaves.json', 'w') as f:\n",
        "#   json.dump(leaves, f, ensure_ascii=False, indent=2)\n"
      ],
      "outputs": [],
      "execution_count": 3,
      "metadata": {}
    },
    {
      "cell_type": "code",
      "source": [
        "# add data from adwords impression file\n",
        "# this data was scraped from the adwords dashboard in may 2018\n",
        "\n",
        "# there are some inconsistencies between the two lists\n",
        "# so we have to substitute a few names\n",
        "subsitutions = {\n",
        "    'Bars, Clubs & Nightlife': 'Clubs & Nightlife',\n",
        "    'Event Ticket Sales': 'Ticket Sales',\n",
        "    'Brand Management': 'Marketing Services',\n",
        "    'Trade Fairs & Industry Shows': 'Trade Shows & Conventions',\n",
        "    'Self Storage': 'Public Storage',\n",
        "    'IT & Technical Jobs': 'Developer Jobs',\n",
        "    'Java (Programming Language)': 'Java',\n",
        "    'Student Loans & College Financing': 'College Financing',\n",
        "    'Financial Planning & Management': 'Financial Planning',\n",
        "    'Study Grants & Scholarships': 'Grants & Financial Assistance',\n",
        "    'Cuisines': 'World Cuisines',\n",
        "    'East Asian Cuisine': 'Asian Cuisine',\n",
        "    'Food & Grocery Retailers': 'Grocery & Food Retailers',\n",
        "    'Beverages': 'Non-Alcoholic Beverages',\n",
        "    'Ringtones & Mobile Themes': 'Ringtones & Mobile Goodies',\n",
        "    'Green Living & Environmental Issues': 'Environmental Issues',\n",
        "    'Carpooling & Vehicle Sharing': 'Carpooling & Ridesharing'\n",
        "}\n",
        "\n",
        "with open('adwords_impressions.json') as adwords_json:\n",
        "    adwords = json.load(adwords_json)\n",
        "    \n",
        "    for interest in adwords:\n",
        "        name = interest['category']\n",
        "        if (name in subsitutions):\n",
        "            name = subsitutions[name]\n",
        "        if (name not in interests):\n",
        "#             print(name + ' not in original data')\n",
        "            continue\n",
        "        interests[name]['impressions'] = interest['impression_int']"
      ],
      "outputs": [],
      "execution_count": 4,
      "metadata": {}
    },
    {
      "cell_type": "code",
      "source": [
        "# validation\n",
        "for interest in interests:\n",
        "    keys = interests[interest].keys()\n",
        "    if ('impressions' not in keys):\n",
        "        print(interest + ' is missing impressions')\n",
        "    "
      ],
      "outputs": [],
      "execution_count": 5,
      "metadata": {}
    },
    {
      "cell_type": "code",
      "source": [
        "# save master json\n",
        "with open('../src/data/interests/interests.json', 'w') as f:\n",
        "    json.dump(interests, f, ensure_ascii=False, indent=2)"
      ],
      "outputs": [],
      "execution_count": 7,
      "metadata": {}
    }
  ],
  "metadata": {
    "kernelspec": {
      "name": "python3",
      "language": "python",
      "display_name": "Python 3"
    },
    "language_info": {
      "name": "python",
      "version": "3.7.0",
      "mimetype": "text/x-python",
      "codemirror_mode": {
        "name": "ipython",
        "version": 3
      },
      "pygments_lexer": "ipython3",
      "nbconvert_exporter": "python",
      "file_extension": ".py"
    },
    "kernel_info": {
      "name": "python3"
    },
    "nteract": {
      "version": "0.12.2"
    }
  },
  "nbformat": 4,
  "nbformat_minor": 2
}